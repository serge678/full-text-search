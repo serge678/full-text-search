{
 "cells": [
  {
   "cell_type": "code",
   "execution_count": 172,
   "metadata": {},
   "outputs": [],
   "source": [
    "import codecs"
   ]
  },
  {
   "cell_type": "code",
   "execution_count": 17,
   "metadata": {},
   "outputs": [],
   "source": [
    "CHARS_IN_GRAM = 3"
   ]
  },
  {
   "cell_type": "code",
   "execution_count": 295,
   "metadata": {},
   "outputs": [],
   "source": [
    "# globals, set by create_index()\n",
    "SEARCH_INDEX        = dict()\n",
    "SEARCH_INDEX_LENGTH = 0"
   ]
  },
  {
   "cell_type": "code",
   "execution_count": 296,
   "metadata": {},
   "outputs": [],
   "source": [
    "def create_index(data):\n",
    "    global SEARCH_INDEX, SEARCH_INDEX_LENGTH\n",
    "    SEARCH_INDEX = dict()\n",
    "    for i in range(0, len(data) - CHARS_IN_GRAM + 1):\n",
    "        gram = data[i:i+CHARS_IN_GRAM]\n",
    "        if not gram in SEARCH_INDEX:\n",
    "            SEARCH_INDEX[gram] = list()\n",
    "        SEARCH_INDEX[gram].append(i)\n",
    "    SEARCH_INDEX_LENGTH = i"
   ]
  },
  {
   "cell_type": "code",
   "execution_count": 198,
   "metadata": {},
   "outputs": [],
   "source": [
    "def search_score_naive(term):\n",
    "    \"\"\"\n",
    "    Score basiert lediglich auf der Anzahl der Vorkommen der n-grams im Suchindex.\n",
    "    \"\"\"\n",
    "    term_index = create_index(term)\n",
    "    matches = 0\n",
    "    term_grams = [term[i:i+CHARS_IN_GRAM] for i in range(0, len(term) - CHARS_IN_GRAM + 1)]\n",
    "    for gram in term_grams:\n",
    "        if gram in SEARCH_INDEX:\n",
    "            position = search_index[gram]\n",
    "            matches += 1\n",
    "    return matches / len(term_grams)"
   ]
  },
  {
   "cell_type": "code",
   "execution_count": 250,
   "metadata": {},
   "outputs": [],
   "source": [
    "sentence = \"Пеппи сидела на диване и молча слушала разговор дам\""
   ]
  },
  {
   "cell_type": "code",
   "execution_count": 251,
   "metadata": {},
   "outputs": [],
   "source": [
    "create_index(sentence)"
   ]
  },
  {
   "cell_type": "code",
   "execution_count": 252,
   "metadata": {},
   "outputs": [
    {
     "data": {
      "text/plain": [
       "1.0"
      ]
     },
     "execution_count": 252,
     "metadata": {},
     "output_type": "execute_result"
    }
   ],
   "source": [
    "search_score_naive(\"слушал\")"
   ]
  },
  {
   "cell_type": "code",
   "execution_count": 310,
   "metadata": {},
   "outputs": [
    {
     "ename": "KeyError",
     "evalue": "'Ппп'",
     "output_type": "error",
     "traceback": [
      "\u001b[0;31m\u001b[0m",
      "\u001b[0;31mKeyError\u001b[0mTraceback (most recent call last)",
      "\u001b[0;32m<ipython-input-310-3f90988eb3ee>\u001b[0m in \u001b[0;36m<module>\u001b[0;34m()\u001b[0m\n\u001b[0;32m----> 1\u001b[0;31m \u001b[0msearch_score_naive\u001b[0m\u001b[0;34m(\u001b[0m\u001b[0;34m\"Пппи диване\"\u001b[0m\u001b[0;34m)\u001b[0m\u001b[0;34m\u001b[0m\u001b[0m\n\u001b[0m",
      "\u001b[0;32m<ipython-input-198-1c51a9fe39d9>\u001b[0m in \u001b[0;36msearch_score_naive\u001b[0;34m(term)\u001b[0m\n\u001b[1;32m      8\u001b[0m     \u001b[0;32mfor\u001b[0m \u001b[0mgram\u001b[0m \u001b[0;32min\u001b[0m \u001b[0mterm_grams\u001b[0m\u001b[0;34m:\u001b[0m\u001b[0;34m\u001b[0m\u001b[0m\n\u001b[1;32m      9\u001b[0m         \u001b[0;32mif\u001b[0m \u001b[0mgram\u001b[0m \u001b[0;32min\u001b[0m \u001b[0mSEARCH_INDEX\u001b[0m\u001b[0;34m:\u001b[0m\u001b[0;34m\u001b[0m\u001b[0m\n\u001b[0;32m---> 10\u001b[0;31m             \u001b[0mposition\u001b[0m \u001b[0;34m=\u001b[0m \u001b[0msearch_index\u001b[0m\u001b[0;34m[\u001b[0m\u001b[0mgram\u001b[0m\u001b[0;34m]\u001b[0m\u001b[0;34m\u001b[0m\u001b[0m\n\u001b[0m\u001b[1;32m     11\u001b[0m             \u001b[0mmatches\u001b[0m \u001b[0;34m+=\u001b[0m \u001b[0;36m1\u001b[0m\u001b[0;34m\u001b[0m\u001b[0m\n\u001b[1;32m     12\u001b[0m     \u001b[0;32mreturn\u001b[0m \u001b[0mmatches\u001b[0m \u001b[0;34m/\u001b[0m \u001b[0mlen\u001b[0m\u001b[0;34m(\u001b[0m\u001b[0mterm_grams\u001b[0m\u001b[0;34m)\u001b[0m\u001b[0;34m\u001b[0m\u001b[0m\n",
      "\u001b[0;31mKeyError\u001b[0m: 'Ппп'"
     ]
    }
   ],
   "source": [
    "search_score_naive(\"Пппи диване\")"
   ]
  },
  {
   "cell_type": "code",
   "execution_count": 254,
   "metadata": {},
   "outputs": [
    {
     "data": {
      "text/plain": [
       "1.0"
      ]
     },
     "execution_count": 254,
     "metadata": {},
     "output_type": "execute_result"
    }
   ],
   "source": [
    "search_score_naive(\"молча слушала\")"
   ]
  },
  {
   "cell_type": "code",
   "execution_count": 255,
   "metadata": {},
   "outputs": [
    {
     "data": {
      "text/plain": [
       "1.0"
      ]
     },
     "execution_count": 255,
     "metadata": {},
     "output_type": "execute_result"
    }
   ],
   "source": [
    "# Zu großer Score\n",
    "search_score_naive(\"молча разговор\")"
   ]
  },
  {
   "cell_type": "code",
   "execution_count": 256,
   "metadata": {},
   "outputs": [],
   "source": [
    "def create_gram_list(data):\n",
    "    return [data[i:i+CHARS_IN_GRAM] for i in range(0, len(data) - CHARS_IN_GRAM + 1)]"
   ]
  },
  {
   "cell_type": "code",
   "execution_count": 297,
   "metadata": {},
   "outputs": [],
   "source": [
    "def search_score(term):\n",
    "    \"\"\"\n",
    "    Score basiert auf Abständen der n-grams zum ersten n-gram, der ein Treffer ist.\n",
    "    \"\"\"\n",
    "    score = 0\n",
    "    position_first_match = None\n",
    "    term_grams = create_gram_list(term)\n",
    "    if len(term_grams) == 0:\n",
    "        # Avoid division by zero\n",
    "        return 0.0\n",
    "    for position_in_term, gram in enumerate(term_grams):\n",
    "        # Initialise: not in index\n",
    "        positions = [float(\"inf\")]\n",
    "        if gram not in SEARCH_INDEX:\n",
    "            continue\n",
    "            \n",
    "        positions = SEARCH_INDEX[gram]\n",
    "        \n",
    "        if not position_first_match:\n",
    "            # TODO: this is a simplification. Takes always first match\n",
    "            position_first_match = positions[0]\n",
    "        \n",
    "        # Determine best match and it's distance\n",
    "        min_dist = float(\"inf\")\n",
    "        for position in positions:\n",
    "            dist = abs(position - position_first_match - position_in_term)\n",
    "            if dist < min_dist: min_dist = dist\n",
    "        \n",
    "        # Avoid division by zero\n",
    "        if min_dist == 0: min_dist = 1\n",
    "        \n",
    "        \n",
    "        score_gram = 1 - min_dist / SEARCH_INDEX_LENGTH\n",
    "        print(\"{}, Position {}, rel. distance {}, score gram {}\".format(gram, position, min_dist, score_gram))\n",
    "        score += score_gram\n",
    "    return score/len(term_grams)"
   ]
  },
  {
   "cell_type": "code",
   "execution_count": 298,
   "metadata": {},
   "outputs": [],
   "source": [
    "create_index(sentence)"
   ]
  },
  {
   "cell_type": "code",
   "execution_count": 299,
   "metadata": {},
   "outputs": [
    {
     "name": "stdout",
     "output_type": "stream",
     "text": [
      "слу, Position 31, rel. distance 1, score gram 0.9791666666666666\n",
      "луш, Position 32, rel. distance 1, score gram 0.9791666666666666\n",
      "уша, Position 33, rel. distance 1, score gram 0.9791666666666666\n",
      "шал, Position 34, rel. distance 1, score gram 0.9791666666666666\n",
      "ала, Position 35, rel. distance 1, score gram 0.9791666666666666\n"
     ]
    },
    {
     "data": {
      "text/plain": [
       "0.9791666666666666"
      ]
     },
     "execution_count": 299,
     "metadata": {},
     "output_type": "execute_result"
    }
   ],
   "source": [
    "search_score(\"слушала\")"
   ]
  },
  {
   "cell_type": "code",
   "execution_count": 300,
   "metadata": {},
   "outputs": [
    {
     "name": "stdout",
     "output_type": "stream",
     "text": [
      "слу, Position 31, rel. distance 1, score gram 0.9791666666666666\n",
      "луш, Position 32, rel. distance 1, score gram 0.9791666666666666\n",
      "уша, Position 33, rel. distance 1, score gram 0.9791666666666666\n",
      "шал, Position 34, rel. distance 1, score gram 0.9791666666666666\n"
     ]
    },
    {
     "data": {
      "text/plain": [
       "0.7833333333333333"
      ]
     },
     "execution_count": 300,
     "metadata": {},
     "output_type": "execute_result"
    }
   ],
   "source": [
    "search_score(\"слушали\")"
   ]
  },
  {
   "cell_type": "code",
   "execution_count": 301,
   "metadata": {},
   "outputs": [
    {
     "name": "stdout",
     "output_type": "stream",
     "text": [
      "мол, Position 25, rel. distance 1, score gram 0.9791666666666666\n",
      "олч, Position 26, rel. distance 1, score gram 0.9791666666666666\n",
      "лча, Position 27, rel. distance 1, score gram 0.9791666666666666\n",
      "ча , Position 28, rel. distance 1, score gram 0.9791666666666666\n",
      "а с, Position 29, rel. distance 1, score gram 0.9791666666666666\n",
      " сл, Position 30, rel. distance 1, score gram 0.9791666666666666\n",
      "слу, Position 31, rel. distance 1, score gram 0.9791666666666666\n",
      "луш, Position 32, rel. distance 1, score gram 0.9791666666666666\n",
      "уша, Position 33, rel. distance 1, score gram 0.9791666666666666\n",
      "шал, Position 34, rel. distance 1, score gram 0.9791666666666666\n",
      "ала, Position 35, rel. distance 1, score gram 0.9791666666666666\n"
     ]
    },
    {
     "data": {
      "text/plain": [
       "0.9791666666666665"
      ]
     },
     "execution_count": 301,
     "metadata": {},
     "output_type": "execute_result"
    }
   ],
   "source": [
    "search_score(\"молча слушала\")"
   ]
  },
  {
   "cell_type": "code",
   "execution_count": 302,
   "metadata": {},
   "outputs": [
    {
     "name": "stdout",
     "output_type": "stream",
     "text": [
      "слу, Position 31, rel. distance 1, score gram 0.9791666666666666\n",
      "луш, Position 32, rel. distance 1, score gram 0.9791666666666666\n",
      "уша, Position 33, rel. distance 1, score gram 0.9791666666666666\n",
      "шал, Position 34, rel. distance 1, score gram 0.9791666666666666\n",
      "ала, Position 35, rel. distance 1, score gram 0.9791666666666666\n",
      "ла , Position 36, rel. distance 1, score gram 0.9791666666666666\n",
      " мо, Position 24, rel. distance 14, score gram 0.7083333333333333\n",
      "мол, Position 25, rel. distance 14, score gram 0.7083333333333333\n",
      "олч, Position 26, rel. distance 14, score gram 0.7083333333333333\n",
      "лча, Position 27, rel. distance 14, score gram 0.7083333333333333\n"
     ]
    },
    {
     "data": {
      "text/plain": [
       "0.7916666666666665"
      ]
     },
     "execution_count": 302,
     "metadata": {},
     "output_type": "execute_result"
    }
   ],
   "source": [
    "search_score(\"слушала молча\")"
   ]
  },
  {
   "cell_type": "code",
   "execution_count": 303,
   "metadata": {},
   "outputs": [
    {
     "name": "stdout",
     "output_type": "stream",
     "text": [
      "Пеп, Position 0, rel. distance 1, score gram 0.9791666666666666\n",
      "епп, Position 1, rel. distance 1, score gram 0.9791666666666666\n",
      "ппи, Position 2, rel. distance 1, score gram 0.9791666666666666\n",
      "пи , Position 3, rel. distance 1, score gram 0.9791666666666666\n",
      " да, Position 47, rel. distance 41, score gram 0.14583333333333337\n",
      "дам, Position 48, rel. distance 41, score gram 0.14583333333333337\n",
      " ди, Position 15, rel. distance 5, score gram 0.8958333333333334\n",
      "див, Position 16, rel. distance 5, score gram 0.8958333333333334\n",
      "ива, Position 17, rel. distance 5, score gram 0.8958333333333334\n",
      "ван, Position 18, rel. distance 5, score gram 0.8958333333333334\n"
     ]
    },
    {
     "data": {
      "text/plain": [
       "0.5993589743589742"
      ]
     },
     "execution_count": 303,
     "metadata": {},
     "output_type": "execute_result"
    }
   ],
   "source": [
    "search_score(\"Пеппи дам диван\")"
   ]
  },
  {
   "cell_type": "code",
   "execution_count": 304,
   "metadata": {},
   "outputs": [
    {
     "name": "stdout",
     "output_type": "stream",
     "text": [
      "Пеп, Position 0, rel. distance 1, score gram 0.9791666666666666\n",
      "епп, Position 1, rel. distance 1, score gram 0.9791666666666666\n",
      "ппи, Position 2, rel. distance 1, score gram 0.9791666666666666\n",
      "пи , Position 3, rel. distance 1, score gram 0.9791666666666666\n",
      " ди, Position 15, rel. distance 9, score gram 0.8125\n",
      "див, Position 16, rel. distance 9, score gram 0.8125\n",
      "ива, Position 17, rel. distance 9, score gram 0.8125\n",
      "ван, Position 18, rel. distance 9, score gram 0.8125\n"
     ]
    },
    {
     "data": {
      "text/plain": [
       "0.7962962962962963"
      ]
     },
     "execution_count": 304,
     "metadata": {},
     "output_type": "execute_result"
    }
   ],
   "source": [
    "search_score(\"Пеппи диван\")"
   ]
  },
  {
   "cell_type": "code",
   "execution_count": 305,
   "metadata": {
    "scrolled": true
   },
   "outputs": [
    {
     "name": "stdout",
     "output_type": "stream",
     "text": [
      "Пеп, Position 0, rel. distance 1, score gram 0.9791666666666666\n",
      "епп, Position 1, rel. distance 1, score gram 0.9791666666666666\n",
      "ппи, Position 2, rel. distance 1, score gram 0.9791666666666666\n",
      "пи , Position 3, rel. distance 1, score gram 0.9791666666666666\n",
      "и с, Position 4, rel. distance 1, score gram 0.9791666666666666\n",
      " си, Position 5, rel. distance 1, score gram 0.9791666666666666\n",
      "сид, Position 6, rel. distance 1, score gram 0.9791666666666666\n",
      "иде, Position 7, rel. distance 1, score gram 0.9791666666666666\n",
      "дел, Position 8, rel. distance 1, score gram 0.9791666666666666\n",
      "ела, Position 9, rel. distance 1, score gram 0.9791666666666666\n",
      "ла , Position 36, rel. distance 1, score gram 0.9791666666666666\n",
      "а н, Position 11, rel. distance 1, score gram 0.9791666666666666\n",
      " на, Position 12, rel. distance 1, score gram 0.9791666666666666\n",
      "на , Position 13, rel. distance 1, score gram 0.9791666666666666\n",
      "а д, Position 14, rel. distance 1, score gram 0.9791666666666666\n",
      " ди, Position 15, rel. distance 1, score gram 0.9791666666666666\n",
      "див, Position 16, rel. distance 1, score gram 0.9791666666666666\n",
      "ива, Position 17, rel. distance 1, score gram 0.9791666666666666\n",
      "ван, Position 18, rel. distance 1, score gram 0.9791666666666666\n",
      "ане, Position 19, rel. distance 1, score gram 0.9791666666666666\n",
      "не , Position 20, rel. distance 1, score gram 0.9791666666666666\n",
      "е и, Position 21, rel. distance 1, score gram 0.9791666666666666\n",
      " и , Position 22, rel. distance 1, score gram 0.9791666666666666\n",
      "и м, Position 23, rel. distance 1, score gram 0.9791666666666666\n",
      " мо, Position 24, rel. distance 1, score gram 0.9791666666666666\n",
      "мол, Position 25, rel. distance 1, score gram 0.9791666666666666\n",
      "олч, Position 26, rel. distance 1, score gram 0.9791666666666666\n",
      "лча, Position 27, rel. distance 1, score gram 0.9791666666666666\n",
      "ча , Position 28, rel. distance 1, score gram 0.9791666666666666\n",
      "а с, Position 29, rel. distance 1, score gram 0.9791666666666666\n",
      " сл, Position 30, rel. distance 1, score gram 0.9791666666666666\n",
      "слу, Position 31, rel. distance 1, score gram 0.9791666666666666\n",
      "луш, Position 32, rel. distance 1, score gram 0.9791666666666666\n",
      "уша, Position 33, rel. distance 1, score gram 0.9791666666666666\n",
      "шал, Position 34, rel. distance 1, score gram 0.9791666666666666\n",
      "ала, Position 35, rel. distance 1, score gram 0.9791666666666666\n",
      "ла , Position 36, rel. distance 1, score gram 0.9791666666666666\n",
      "а р, Position 37, rel. distance 1, score gram 0.9791666666666666\n",
      " ра, Position 38, rel. distance 1, score gram 0.9791666666666666\n",
      "раз, Position 39, rel. distance 1, score gram 0.9791666666666666\n",
      "азг, Position 40, rel. distance 1, score gram 0.9791666666666666\n",
      "зго, Position 41, rel. distance 1, score gram 0.9791666666666666\n",
      "гов, Position 42, rel. distance 1, score gram 0.9791666666666666\n",
      "ово, Position 43, rel. distance 1, score gram 0.9791666666666666\n",
      "вор, Position 44, rel. distance 1, score gram 0.9791666666666666\n",
      "ор , Position 45, rel. distance 1, score gram 0.9791666666666666\n",
      "р д, Position 46, rel. distance 1, score gram 0.9791666666666666\n",
      " да, Position 47, rel. distance 1, score gram 0.9791666666666666\n",
      "дам, Position 48, rel. distance 1, score gram 0.9791666666666666\n"
     ]
    },
    {
     "data": {
      "text/plain": [
       "0.9791666666666662"
      ]
     },
     "execution_count": 305,
     "metadata": {},
     "output_type": "execute_result"
    }
   ],
   "source": [
    "search_score(sentence)"
   ]
  },
  {
   "cell_type": "code",
   "execution_count": 306,
   "metadata": {},
   "outputs": [],
   "source": [
    "document1 = \"\"\n",
    "with codecs.open(\"draka.txt\", \"r\", \"utf-8\") as h:\n",
    "    document1 = h.read()\n",
    "create_index(document1)"
   ]
  },
  {
   "cell_type": "code",
   "execution_count": 307,
   "metadata": {},
   "outputs": [
    {
     "name": "stdout",
     "output_type": "stream",
     "text": [
      "поб, Position 411, rel. distance 1, score gram 0.9999228692634015\n",
      "обе, Position 12592, rel. distance 1, score gram 0.9999228692634015\n",
      "беж, Position 6954, rel. distance 1, score gram 0.9999228692634015\n",
      "ежа, Position 6955, rel. distance 1, score gram 0.9999228692634015\n",
      "жал, Position 11586, rel. distance 1, score gram 0.9999228692634015\n",
      "али, Position 8664, rel. distance 1, score gram 0.9999228692634015\n"
     ]
    },
    {
     "data": {
      "text/plain": [
       "0.9999228692634015"
      ]
     },
     "execution_count": 307,
     "metadata": {},
     "output_type": "execute_result"
    }
   ],
   "source": [
    "search_score(\"побежали\")"
   ]
  },
  {
   "cell_type": "code",
   "execution_count": 308,
   "metadata": {
    "collapsed": true
   },
   "outputs": [
    {
     "name": "stdout",
     "output_type": "stream",
     "text": [
      "поб, Position 411, rel. distance 1, score gram 0.9999228692634015\n",
      "обе, Position 12592, rel. distance 1, score gram 0.9999228692634015\n",
      "беж, Position 6954, rel. distance 1, score gram 0.9999228692634015\n",
      "ежа, Position 6955, rel. distance 1, score gram 0.9999228692634015\n",
      "жал, Position 11586, rel. distance 1, score gram 0.9999228692634015\n",
      "али, Position 8664, rel. distance 1, score gram 0.9999228692634015\n",
      "ли , Position 12705, rel. distance 1, score gram 0.9999228692634015\n",
      "и в, Position 12835, rel. distance 1, score gram 0.9999228692634015\n",
      " в , Position 12836, rel. distance 1, score gram 0.9999228692634015\n",
      " ва, Position 10064, rel. distance 4, score gram 0.9996914770536058\n",
      "ван, Position 5051, rel. distance 4, score gram 0.9996914770536058\n",
      "анн, Position 12463, rel. distance 4, score gram 0.9996914770536058\n",
      "нну, Position 5833, rel. distance 4, score gram 0.9996914770536058\n",
      "ную, Position 12504, rel. distance 4, score gram 0.9996914770536058\n",
      "ую,, Position 12352, rel. distance 4, score gram 0.9996914770536058\n",
      "ю, , Position 12353, rel. distance 4, score gram 0.9996914770536058\n"
     ]
    },
    {
     "data": {
      "text/plain": [
       "0.6665477567810772"
      ]
     },
     "execution_count": 308,
     "metadata": {},
     "output_type": "execute_result"
    }
   ],
   "source": [
    "search_score(\"побежали в XXX ванную, XXX\")"
   ]
  }
 ],
 "metadata": {
  "kernelspec": {
   "display_name": "Python 3",
   "language": "python",
   "name": "python3"
  },
  "language_info": {
   "codemirror_mode": {
    "name": "ipython",
    "version": 3
   },
   "file_extension": ".py",
   "mimetype": "text/x-python",
   "name": "python",
   "nbconvert_exporter": "python",
   "pygments_lexer": "ipython3",
   "version": "3.6.5"
  }
 },
 "nbformat": 4,
 "nbformat_minor": 2
}
